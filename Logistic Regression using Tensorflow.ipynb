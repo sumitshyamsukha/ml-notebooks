{
 "cells": [
  {
   "cell_type": "code",
   "execution_count": 1,
   "metadata": {
    "collapsed": true
   },
   "outputs": [],
   "source": [
    "import tensorflow as tf\n",
    "import numpy as np\n",
    "from sklearn.datasets import make_moons"
   ]
  },
  {
   "cell_type": "code",
   "execution_count": 56,
   "metadata": {},
   "outputs": [],
   "source": [
    "n_epochs = 1000\n",
    "learning_rate = 0.01\n",
    "\n",
    "moons = make_moons()\n",
    "moons_plus_bias = np.c_[np.ones((moons[0].shape[0], 1)), moons[0]]"
   ]
  },
  {
   "cell_type": "code",
   "execution_count": 66,
   "metadata": {},
   "outputs": [],
   "source": [
    "def logistic_regression():\n",
    "    X = tf.constant(moons_plus_bias, dtype=tf.float32, name=\"X\")\n",
    "    y = tf.constant(moons[1], dtype=tf.float32, name=\"y\")\n",
    "    theta = tf.Variable(tf.random_uniform([moons[0].shape[1] + 1, 1], -1.0, 1.0), name=\"theta\")\n",
    "    y_pred = tf.nn.sigmoid(tf.matmul(X, theta, name=\"predictions\"))\n",
    "    error = y_pred - y\n",
    "    cost = tf.reduce_mean(error, name = \"cost\")\n",
    "    gradients = tf.gradients(cost, [theta])[0]\n",
    "    optimizer = tf.train.GradientDescentOptimizer(learning_rate=learning_rate)\n",
    "    training_op = optimizer.minimize(cost)\n",
    "    init = tf.global_variables_initializer()\n",
    "    with tf.Session() as sess:\n",
    "        sess.run(init)\n",
    "        for epoch in range(n_epochs):\n",
    "            if epoch % 100 == 0:\n",
    "                print(\"Epoch\", epoch, \"Cost =\", cost.eval())\n",
    "            sess.run(training_op)\n",
    "        best_theta = theta.eval()\n",
    "    return best_theta"
   ]
  },
  {
   "cell_type": "code",
   "execution_count": 67,
   "metadata": {},
   "outputs": [
    {
     "name": "stdout",
     "output_type": "stream",
     "text": [
      "Epoch 0 Cost = 0.126129\n",
      "Epoch 100 Cost = 0.0554453\n",
      "Epoch 200 Cost = -0.0233056\n",
      "Epoch 300 Cost = -0.101644\n",
      "Epoch 400 Cost = -0.170718\n",
      "Epoch 500 Cost = -0.226549\n",
      "Epoch 600 Cost = -0.269869\n",
      "Epoch 700 Cost = -0.303233\n",
      "Epoch 800 Cost = -0.329171\n",
      "Epoch 900 Cost = -0.349661\n"
     ]
    },
    {
     "data": {
      "text/plain": [
       "array([[-1.53253877],\n",
       "       [-0.49469793],\n",
       "       [-0.57925588]], dtype=float32)"
      ]
     },
     "execution_count": 67,
     "metadata": {},
     "output_type": "execute_result"
    }
   ],
   "source": [
    "logistic_regression()"
   ]
  },
  {
   "cell_type": "code",
   "execution_count": null,
   "metadata": {
    "collapsed": true
   },
   "outputs": [],
   "source": []
  }
 ],
 "metadata": {
  "kernelspec": {
   "display_name": "Python 3",
   "language": "python",
   "name": "python3"
  },
  "language_info": {
   "codemirror_mode": {
    "name": "ipython",
    "version": 3
   },
   "file_extension": ".py",
   "mimetype": "text/x-python",
   "name": "python",
   "nbconvert_exporter": "python",
   "pygments_lexer": "ipython3",
   "version": "3.5.0"
  },
  "toc": {
   "colors": {
    "hover_highlight": "#DAA520",
    "running_highlight": "#FF0000",
    "selected_highlight": "#FFD700"
   },
   "moveMenuLeft": true,
   "nav_menu": {
    "height": "12px",
    "width": "252px"
   },
   "navigate_menu": true,
   "number_sections": true,
   "sideBar": true,
   "threshold": 4,
   "toc_cell": false,
   "toc_section_display": "block",
   "toc_window_display": false,
   "widenNotebook": false
  }
 },
 "nbformat": 4,
 "nbformat_minor": 2
}
